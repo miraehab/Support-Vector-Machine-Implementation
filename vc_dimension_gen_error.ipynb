{
 "cells": [
  {
   "cell_type": "markdown",
   "id": "6f28a777",
   "metadata": {},
   "source": [
    "# VC Dimension\n",
    "\n",
    "##### The Maximum number of points h that can be arranged such that f(x) can shatter them\n",
    "\n",
    "##### For a straight line classifier of d dimensions with an intercept: VC Dimension = d + 1"
   ]
  },
  {
   "cell_type": "code",
   "execution_count": 1,
   "id": "1e54ae81",
   "metadata": {},
   "outputs": [],
   "source": [
    "import numpy as np\n",
    "import matplotlib\n",
    "import matplotlib.pyplot as plt\n",
    "from sklearn import svm\n",
    "import pandas as pd\n",
    "from sklearn.model_selection import cross_val_score, train_test_split\n",
    "import cvxopt\n",
    "from cvxopt import matrix, solvers\n",
    "import cvxopt.solvers\n",
    "import matplotlib"
   ]
  },
  {
   "cell_type": "code",
   "execution_count": 2,
   "id": "ce8797b7",
   "metadata": {},
   "outputs": [],
   "source": [
    "def plot_db(X,y,w,b, x_min=-1, y_min=-1, x_max=10, y_max=10):\n",
    "\n",
    "    xx = np.linspace(x_min, x_max)\n",
    "    a = -w[0]/w[1]\n",
    "    yy = a*xx - (b)/w[1]\n",
    "    margin = 1 / np.sqrt(np.sum(w**2))\n",
    "    yy_neg = yy - np.sqrt(1 + a**2) * margin\n",
    "    yy_pos = yy + np.sqrt(1 + a**2) * margin\n",
    "    plt.figure(figsize=(8, 8))\n",
    "    plt.plot(xx, yy, \"b-\")\n",
    "    # plt.plot(xx, yy_neg, \"m--\")\n",
    "    # plt.plot(xx, yy_pos, \"m--\")\n",
    "    colors = [\"red\", \"green\"]\n",
    "    plt.scatter(X[:, 0], X[:, 1], s=100, c=y.ravel(), alpha=0.5, cmap=matplotlib.colors.ListedColormap(colors), edgecolors=\"black\")\n",
    "    plt.xlim(x_min, x_max)\n",
    "    plt.ylim(y_min, y_max)\n",
    "    \n",
    "    plt.show()"
   ]
  },
  {
   "cell_type": "code",
   "execution_count": 3,
   "id": "b9fcbdec",
   "metadata": {},
   "outputs": [],
   "source": [
    "class SVM:\n",
    "    def __init__(self, kernel=\"no\", C=0):\n",
    "        self.kernel = kernel\n",
    "        self.C = C\n",
    "        \n",
    "\n",
    "    def fit(self, X, y):\n",
    "        n_samples, n_features = X.shape\n",
    "\n",
    "        n = X.shape[0]\n",
    "        H = np.dot(y * X, (y * X).T)\n",
    "        q = np.repeat([-1.0], n)[..., None]\n",
    "\n",
    "        A = y.reshape(1, -1).astype(float)\n",
    "        b = 0.0\n",
    "\n",
    "        if self.C is None or self.C == 0:\n",
    "            G = np.negative(np.eye(n))\n",
    "            h = np.zeros(n)\n",
    "        else:\n",
    "            G = matrix(np.vstack((np.eye(n) * -1, np.eye(n))))\n",
    "            h = matrix(np.hstack((np.zeros(n), np.ones(n) * self.C)))\n",
    "\n",
    "        P = matrix(H)\n",
    "        q = matrix(q)\n",
    "        G = matrix(G)\n",
    "        h = matrix(h)\n",
    "        A = matrix(A)\n",
    "        b = matrix(b)\n",
    "\n",
    "        # solve QP problem\n",
    "        solution = solvers.qp(P, q, G, h, A, b, kktsolver='ldl', options={'kktreg':1e-9})\n",
    "\n",
    "        # Lagrange multipliers\n",
    "        a = np.array(solution[\"x\"])\n",
    "\n",
    "        self.w = np.dot((y * a).T, X)[0]\n",
    "        S = (a > 1e-5).flatten()\n",
    "        self.b = np.mean(y[S] - np.dot(X[S], self.w.reshape(-1, 1)))\n",
    "\n",
    "\n",
    "    def predict(self, X):\n",
    "        predicted_color = np.dot(np.transpose(self.w), np.array(X)) + self.b\n",
    "\n",
    "        if predicted_color < 0:\n",
    "            return -1\n",
    "        elif predicted_color > 0:\n",
    "            return 1\n",
    "        else:\n",
    "            return 0"
   ]
  },
  {
   "cell_type": "markdown",
   "id": "a460ba14",
   "metadata": {},
   "source": [
    "### In case of two dimensions:\n",
    "1. Classifying <b>One</b> point:\n",
    "> <b>Successful</b> (No Counterexample that can prove otherwise)"
   ]
  },
  {
   "cell_type": "code",
   "execution_count": 4,
   "id": "f73a75e9",
   "metadata": {},
   "outputs": [
    {
     "name": "stdout",
     "output_type": "stream",
     "text": [
      "     pcost       dcost       gap    pres   dres\n",
      " 0: -1.1634e-01 -3.2687e-01  2e-01  1e-09  1e+00\n",
      " 1: -1.1754e-01 -1.1982e-01  2e-03  2e-10  4e-02\n",
      " 2: -1.1765e-01 -1.1767e-01  2e-05  2e-10  4e-04\n",
      " 3: -1.1765e-01 -1.1765e-01  2e-07  2e-10  4e-06\n",
      " 4: -1.1765e-01 -1.1765e-01  2e-09  2e-10  4e-08\n",
      "Optimal solution found.\n"
     ]
    },
    {
     "data": {
      "image/png": "[encoded data removed]",
      "text/plain": [
       "<Figure size 576x576 with 1 Axes>"
      ]
     },
     "metadata": {
      "needs_background": "light"
     },
     "output_type": "display_data"
    }
   ],
   "source": [
    "X = np.array([\n",
    "    [1,1],\n",
    "    [2,5],\n",
    "], dtype=float)\n",
    "y = np.array([-1,1]).reshape(-1,1)\n",
    "clf = SVM()\n",
    "clf.fit(X, y)\n",
    "w = clf.w\n",
    "b = clf.b\n",
    "plot_db(X[1:],y[1:],w,b)"
   ]
  },
  {
   "cell_type": "markdown",
   "id": "6ff14ab4",
   "metadata": {},
   "source": [
    "2. Classifying <b>Two</b> points: <b>Successful</b> (No Counterexample that can prove otherwise)"
   ]
  },
  {
   "cell_type": "code",
   "execution_count": 5,
   "id": "6a9c9693",
   "metadata": {},
   "outputs": [
    {
     "data": {
      "image/png": "[encoded data removed]",
      "text/plain": [
       "<Figure size 576x576 with 1 Axes>"
      ]
     },
     "metadata": {
      "needs_background": "light"
     },
     "output_type": "display_data"
    }
   ],
   "source": [
    "plot_db(X,y,w,b)"
   ]
  },
  {
   "cell_type": "markdown",
   "id": "2329e65d",
   "metadata": {},
   "source": [
    "3. Classifying <b>Three</b> points:\n",
    "> <b>Successful</b> (No Counterexample that can prove otherwise)"
   ]
  },
  {
   "cell_type": "code",
   "execution_count": 6,
   "id": "9ceb60d4",
   "metadata": {},
   "outputs": [
    {
     "name": "stdout",
     "output_type": "stream",
     "text": [
      "     pcost       dcost       gap    pres   dres\n",
      " 0: -2.5079e-01 -6.5490e-01  4e+00  2e+00  1e+00\n",
      " 1: -1.8254e-01 -5.5669e-01  4e-01  1e-09  1e-10\n",
      " 2: -2.4703e-01 -2.7674e-01  3e-02  9e-10  8e-11\n",
      " 3: -2.4991e-01 -2.5030e-01  4e-04  4e-10  9e-12\n",
      " 4: -2.5000e-01 -2.5000e-01  4e-06  4e-10  2e-13\n",
      " 5: -2.5000e-01 -2.5000e-01  4e-08  4e-10  4e-15\n",
      "Optimal solution found.\n"
     ]
    },
    {
     "data": {
      "image/png": "[encoded data removed]",
      "text/plain": [
       "<Figure size 576x576 with 1 Axes>"
      ]
     },
     "metadata": {
      "needs_background": "light"
     },
     "output_type": "display_data"
    }
   ],
   "source": [
    "X = np.array([\n",
    "    [1,1],\n",
    "    [2,5],\n",
    "    [3,3],\n",
    "], dtype=float)\n",
    "y = np.array([-1,1, 1]).reshape(-1,1)\n",
    "clf.fit(X, y)\n",
    "w = clf.w\n",
    "b = clf.b\n",
    "plot_db(X,y,w,b)"
   ]
  },
  {
   "cell_type": "code",
   "execution_count": 7,
   "id": "010e67c6",
   "metadata": {},
   "outputs": [
    {
     "name": "stdout",
     "output_type": "stream",
     "text": [
      "     pcost       dcost       gap    pres   dres\n",
      " 0: -1.1944e+00 -2.3611e+00  8e+00  3e+00  2e+00\n",
      " 1: -3.7105e-01 -1.7744e+00  1e+00  1e-08  3e-10\n",
      " 2: -7.5330e-01 -8.4859e-01  1e-01  5e-09  2e-10\n",
      " 3: -7.9939e-01 -8.0049e-01  1e-03  1e-09  1e-11\n",
      " 4: -7.9999e-01 -8.0000e-01  1e-05  1e-09  3e-13\n",
      " 5: -8.0000e-01 -8.0000e-01  1e-07  1e-09  7e-15\n",
      "Optimal solution found.\n",
      "W: [0.40000001 1.20000004]\n",
      "b: -9.800000291535687\n"
     ]
    }
   ],
   "source": [
    "X = np.array([\n",
    "    [1,7],\n",
    "    [2,5],\n",
    "    [3,8],\n",
    "    [4,6],\n",
    "], dtype=float)\n",
    "y = np.array([-1,-1,1,-1]).reshape(-1,1)\n",
    "\n",
    "\n",
    "\n",
    "# clf = SVM(kernel=\"linear\", C=100)\n",
    "clf.fit(X, y)\n",
    "w = clf.w\n",
    "b = clf.b\n",
    "print(\"W:\", w)\n",
    "print(\"b:\", b)\n",
    "old_w = w\n",
    "old_b = b"
   ]
  },
  {
   "cell_type": "markdown",
   "id": "90ac67a4",
   "metadata": {},
   "source": [
    "4. Classifying <b>Four</b> points:\n",
    "> Can be successful in some cases"
   ]
  },
  {
   "cell_type": "code",
   "execution_count": 8,
   "id": "0d63f63a",
   "metadata": {},
   "outputs": [
    {
     "data": {
      "image/png": "[encoded data removed]",
      "text/plain": [
       "<Figure size 576x576 with 1 Axes>"
      ]
     },
     "metadata": {
      "needs_background": "light"
     },
     "output_type": "display_data"
    }
   ],
   "source": [
    "plot_db(X,y,w,b)"
   ]
  },
  {
   "cell_type": "markdown",
   "id": "6eb66601",
   "metadata": {},
   "source": [
    "### Counterexample:\n",
    "> The SVM will fail to classify these four points"
   ]
  },
  {
   "cell_type": "code",
   "execution_count": 9,
   "id": "4da8eea8",
   "metadata": {},
   "outputs": [
    {
     "name": "stdout",
     "output_type": "stream",
     "text": [
      "     pcost       dcost       gap    pres   dres\n",
      " 0: -4.0000e+00 -8.0000e+00  4e+00  2e-09  2e+00\n",
      " 1: -9.9400e+00 -1.0039e+01  1e-01  3e-09  1e+00\n",
      " 2: -1.0038e+03 -1.0039e+03  1e-01  8e-09  1e+00\n",
      " 3: -9.9647e+10 -2.4823e+12  2e+12  1e-01  2e+01\n",
      " 4: -1.0264e+11 -1.2719e+11  2e+10  5e+01  1e+00\n",
      " 5: -1.0661e+11 -1.0687e+11  3e+08  5e+01  1e+00\n",
      " 6: -1.1058e+11 -1.1058e+11  3e+06  5e+01  1e+00\n",
      " 7: -1.1454e+11 -1.1454e+11  3e+04  6e+01  1e+00\n",
      " 8: -1.1851e+11 -1.1851e+11  3e+02  6e+01  1e+00\n",
      " 9: -1.2247e+11 -1.2247e+11  3e+00  6e+01  1e+00\n",
      "10: -1.2643e+11 -1.2643e+11  3e-02  6e+01  1e+00\n",
      "11: -1.3039e+11 -1.3039e+11  3e-04  6e+01  1e+00\n",
      "12: -1.3436e+11 -1.3436e+11  3e-06  7e+01  1e+00\n",
      "13: -1.3834e+11 -1.3834e+11  3e-08  7e+01  1e+00\n",
      "14: -1.4229e+11 -1.4229e+11  3e-10  7e+01  1e+00\n",
      "15: -1.4625e+11 -1.4625e+11  3e-12  7e+01  1e+00\n",
      "16: -1.5021e+11 -1.5021e+11  4e-14  7e+01  1e+00\n",
      "17: -1.5417e+11 -1.5417e+11  4e-16  8e+01  1e+00\n",
      "18: -1.5814e+11 -1.5814e+11  4e-18  8e+01  1e+00\n",
      "19: -1.6211e+11 -1.6211e+11  4e-20  8e+01  1e+00\n",
      "20: -1.6607e+11 -1.6607e+11  4e-22  8e+01  1e+00\n",
      "21: -1.7003e+11 -1.7003e+11  4e-24  8e+01  1e+00\n",
      "22: -1.7398e+11 -1.7398e+11  4e-26  8e+01  1e+00\n",
      "23: -1.7796e+11 -1.7796e+11  4e-28  9e+01  1e+00\n",
      "24: -1.8192e+11 -1.8192e+11  4e-30  9e+01  1e+00\n",
      "25: -1.8589e+11 -1.8589e+11  4e-32  9e+01  1e+00\n",
      "26: -1.8985e+11 -1.8985e+11  5e-34  9e+01  1e+00\n",
      "27: -1.9380e+11 -1.9380e+11  5e-36  9e+01  1e+00\n",
      "28: -1.9776e+11 -1.9776e+11  5e-38  1e+02  1e+00\n",
      "29: -2.0173e+11 -2.0173e+11  5e-40  1e+02  1e+00\n",
      "30: -2.0568e+11 -2.0568e+11  5e-42  1e+02  1e+00\n",
      "31: -2.0966e+11 -2.0966e+11  5e-44  1e+02  1e+00\n",
      "32: -2.1364e+11 -2.1364e+11  5e-46  1e+02  1e+00\n",
      "33: -2.1759e+11 -2.1759e+11  5e-48  1e+02  1e+00\n",
      "34: -2.2153e+11 -2.2153e+11  5e-50  1e+02  1e+00\n",
      "35: -2.2550e+11 -2.2550e+11  5e-52  1e+02  1e+00\n",
      "36: -2.2948e+11 -2.2948e+11  5e-54  1e+02  1e+00\n",
      "37: -2.3343e+11 -2.3343e+11  6e-56  1e+02  1e+00\n",
      "38: -2.3736e+11 -2.3736e+11  6e-58  1e+02  1e+00\n",
      "39: -2.4136e+11 -2.4136e+11  6e-60  1e+02  1e+00\n",
      "40: -2.4530e+11 -2.4530e+11  6e-62  1e+02  1e+00\n",
      "41: -2.4924e+11 -2.4924e+11  6e-64  1e+02  1e+00\n",
      "42: -2.5322e+11 -2.5322e+11  6e-66  1e+02  1e+00\n",
      "43: -2.5719e+11 -2.5719e+11  6e-68  1e+02  1e+00\n",
      "44: -2.6114e+11 -2.6114e+11  6e-70  1e+02  1e+00\n",
      "45: -2.6512e+11 -2.6512e+11  6e-72  1e+02  1e+00\n",
      "46: -2.6908e+11 -2.6908e+11  6e-74  1e+02  1e+00\n",
      "47: -2.7302e+11 -2.7302e+11  7e-76  1e+02  1e+00\n",
      "48: -2.7699e+11 -2.7699e+11  7e-78  1e+02  1e+00\n",
      "49: -2.8095e+11 -2.8095e+11  7e-80  1e+02  1e+00\n",
      "50: -2.8491e+11 -2.8491e+11  7e-82  1e+02  1e+00\n",
      "51: -2.8890e+11 -2.8890e+11  7e-84  1e+02  1e+00\n",
      "52: -2.9281e+11 -2.9281e+11  7e-86  1e+02  1e+00\n",
      "53: -2.9679e+11 -2.9679e+11  7e-88  1e+02  1e+00\n",
      "54: -3.0076e+11 -3.0076e+11  7e-90  1e+02  1e+00\n",
      "55: -3.0476e+11 -3.0476e+11  7e-92  2e+02  1e+00\n",
      "56: -3.0870e+11 -3.0870e+11  7e-94  2e+02  1e+00\n",
      "57: -3.1261e+11 -3.1261e+11  7e-96  2e+02  1e+00\n",
      "58: -3.1660e+11 -3.1660e+11  8e-98  2e+02  1e+00\n",
      "59: -3.2058e+11 -3.2058e+11  8e-100  2e+02  1e+00\n",
      "60: -3.2447e+11 -3.2447e+11  8e-102  2e+02  1e+00\n",
      "61: -3.2849e+11 -3.2849e+11  8e-104  2e+02  1e+00\n",
      "62: -3.3239e+11 -3.3239e+11  8e-106  2e+02  1e+00\n",
      "63: -3.3647e+11 -3.3647e+11  8e-108  2e+02  1e+00\n",
      "64: -3.4030e+11 -3.4030e+11  8e-110  2e+02  1e+00\n",
      "65: -3.4442e+11 -3.4442e+11  8e-112  2e+02  1e+00\n",
      "66: -3.4825e+11 -3.4825e+11  8e-114  2e+02  1e+00\n",
      "67: -3.5224e+11 -3.5224e+11  8e-116  2e+02  1e+00\n",
      "68: -3.5627e+11 -3.5627e+11  9e-118  2e+02  1e+00\n",
      "69: -3.6020e+11 -3.6020e+11  9e-120  2e+02  1e+00\n",
      "70: -3.6408e+11 -3.6408e+11  9e-122  2e+02  1e+00\n",
      "71: -3.6811e+11 -3.6811e+11  9e-124  2e+02  1e+00\n",
      "72: -3.7203e+11 -3.7203e+11  9e-126  2e+02  1e+00\n",
      "73: -3.7594e+11 -3.7594e+11  9e-128  2e+02  1e+00\n",
      "74: -3.7999e+11 -3.7999e+11  9e-130  2e+02  1e+00\n",
      "75: -3.8393e+11 -3.8393e+11  9e-132  2e+02  1e+00\n",
      "76: -3.8789e+11 -3.8789e+11  9e-134  2e+02  1e+00\n",
      "77: -3.9190e+11 -3.9190e+11  9e-136  2e+02  1e+00\n",
      "78: -3.9588e+11 -3.9588e+11  9e-138  2e+02  1e+00\n",
      "79: -3.9975e+11 -3.9975e+11  1e-139  2e+02  1e+00\n",
      "80: -4.0369e+11 -4.0369e+11  1e-141  2e+02  1e+00\n",
      "81: -4.0767e+11 -4.0767e+11  1e-143  2e+02  1e+00\n",
      "82: -4.1164e+11 -4.1164e+11  1e-145  2e+02  1e+00\n",
      "83: -4.1560e+11 -4.1560e+11  1e-147  2e+02  1e+00\n",
      "84: -4.1956e+11 -4.1956e+11  1e-149  2e+02  1e+00\n",
      "85: -4.2356e+11 -4.2356e+11  1e-151  2e+02  1e+00\n",
      "86: -4.2745e+11 -4.2745e+11  1e-153  2e+02  1e+00\n",
      "87: -4.3149e+11 -4.3149e+11  1e-155  2e+02  1e+00\n",
      "88: -4.3551e+11 -4.3551e+11  1e-157  2e+02  1e+00\n",
      "89: -4.3935e+11 -4.3935e+11  1e-159  2e+02  1e+00\n",
      "90: -4.4321e+11 -4.4321e+11  1e-161  2e+02  1e+00\n",
      "91: -4.4740e+11 -4.4740e+11  1e-163  2e+02  1e+00\n",
      "92: -4.5127e+11 -4.5127e+11  1e-165  2e+02  1e+00\n",
      "93: -4.5522e+11 -4.5522e+11  1e-167  2e+02  1e+00\n",
      "94: -4.5912e+11 -4.5912e+11  1e-169  2e+02  1e+00\n",
      "95: -4.6311e+11 -4.6311e+11  1e-171  2e+02  1e+00\n",
      "96: -4.6700e+11 -4.6700e+11  1e-173  2e+02  1e+00\n",
      "97: -4.7100e+11 -4.7100e+11  1e-175  2e+02  1e+00\n",
      "98: -4.7510e+11 -4.7510e+11  1e-177  2e+02  1e+00\n",
      "99: -4.7902e+11 -4.7902e+11  1e-179  2e+02  1e+00\n",
      "100: -4.8300e+11 -4.8300e+11  1e-181  2e+02  1e+00\n",
      "Terminated (maximum number of iterations reached).\n",
      "W: [0.00012207 0.00057983]\n",
      "b: -0.0040740966796875\n"
     ]
    }
   ],
   "source": [
    "X = np.array([\n",
    "    [1,7],\n",
    "    [2,5],\n",
    "    [3,8],\n",
    "    [4,6],\n",
    "], dtype=float)\n",
    "y = np.array([-1,1,1,-1]).reshape(-1,1)\n",
    "\n",
    "\n",
    "\n",
    "\n",
    "clf.fit(X, y)\n",
    "w = clf.w\n",
    "b = clf.b\n",
    "print(\"W:\", w)\n",
    "print(\"b:\", b)"
   ]
  },
  {
   "cell_type": "code",
   "execution_count": 10,
   "id": "783c99df",
   "metadata": {
    "scrolled": false
   },
   "outputs": [
    {
     "data": {
      "image/png": "[encoded data removed]",
      "text/plain": [
       "<Figure size 576x576 with 1 Axes>"
      ]
     },
     "metadata": {
      "needs_background": "light"
     },
     "output_type": "display_data"
    }
   ],
   "source": [
    "plot_db(X,y,old_w,old_b)"
   ]
  },
  {
   "cell_type": "markdown",
   "id": "ca44bee5",
   "metadata": {},
   "source": [
    "## Conclusion\n",
    "> Since SVM can classify a maximum of three points with zero error given two dimensions\n",
    "> <h3>VC Dimension = 3 = # of dimensions + 1</h3>"
   ]
  },
  {
   "cell_type": "markdown",
   "id": "a7531688",
   "metadata": {},
   "source": [
    "## Generalization Error"
   ]
  },
  {
   "cell_type": "code",
   "execution_count": 11,
   "id": "46e7a97d",
   "metadata": {},
   "outputs": [],
   "source": [
    "def get_data(filename):\n",
    "    df = pd.read_csv(filename)\n",
    "    df.color = df.color.replace(0, -1)\n",
    "    X = df[['x', 'y']].to_numpy()  # iris_df[[\"petal length (cm)\", \"petal width (cm)\"]].to_numpy()\n",
    "    y = df['color'].to_numpy().reshape((-1, 1))  # iris_df[[\"target\"]].to_numpy()\n",
    "    return X, y"
   ]
  },
  {
   "cell_type": "code",
   "execution_count": 12,
   "id": "598e01d5",
   "metadata": {},
   "outputs": [
    {
     "data": {
      "text/plain": [
       "0.0397390272835112"
      ]
     },
     "execution_count": 12,
     "metadata": {},
     "output_type": "execute_result"
    }
   ],
   "source": [
    "X,y = get_data('non-separable-data.csv')\n",
    "X_train, X_test, y_train, y_test = train_test_split(X,y, train_size=0.3)\n",
    "model = svm.SVC()\n",
    "# train the model using the training data\n",
    "model.fit(X_train, y_train.ravel())\n",
    "\n",
    "# use cross-validation to estimate the generalization error\n",
    "scores = cross_val_score(model, X_test, y_test.ravel(), cv=5)\n",
    "\n",
    "# the generalization error is the average of the scores\n",
    "generalization_error = 1 - np.mean(scores)\n",
    "generalization_error"
   ]
  }
 ],
 "metadata": {
  "kernelspec": {
   "display_name": "Python 3 (ipykernel)",
   "language": "python",
   "name": "python3"
  },
  "language_info": {
   "codemirror_mode": {
    "name": "ipython",
    "version": 3
   },
   "file_extension": ".py",
   "mimetype": "text/x-python",
   "name": "python",
   "nbconvert_exporter": "python",
   "pygments_lexer": "ipython3",
   "version": "3.9.12"
  }
 },
 "nbformat": 4,
 "nbformat_minor": 5
}
