{
 "cells": [
  {
   "cell_type": "code",
   "execution_count": null,
   "metadata": {},
   "outputs": [],
   "source": [
    "class support_vector_machine:\n",
    "    def __init__(self,C=10,features=2,sigma_sq=0.1,kernel=\"None\"):\n",
    "        self.C=C\n",
    "        self.features=features\n",
    "        self.sigma_sq=sigma_sq\n",
    "        self.kernel=kernel\n",
    "        self.weights=np.zeros(features)\n",
    "        self.bias=0.\n",
    "        \n",
    "    def __similarity(self,x,l):\n",
    "        return np.exp(-sum((x-l)**2)/(2*self.sigma_sq))\n",
    "\n",
    "    def gaussian_kernel(self,x1,x):\n",
    "        m=x.shape[0]\n",
    "        n=x1.shape[0]\n",
    "        op=[[self.__similarity(x1[x_index],x[l_index]) for l_index in range(m)] for x_index in range(n)]\n",
    "        return np.array(op)\n",
    "\n",
    "    def loss_function(self,y,y_hat):\n",
    "        sum_terms=1-y*y_hat\n",
    "        sum_terms=np.where(sum_terms<0,0,sum_terms)\n",
    "        return (self.C*np.sum(sum_terms)/len(y)+sum(self.weights**2)/2)\n",
    "\n",
    "    def fit(self,x_train,y_train,epochs=1000,print_every_nth_epoch=100,learning_rate=0.01):\n",
    "        y=y_train.copy()\n",
    "        x=x_train.copy()\n",
    "        self.initial=x.copy()\n",
    "        \n",
    "        assert x.shape[0]==y.shape[0] , \"Samples of x and y don't match.\"\n",
    "        assert x.shape[1]==self.features , \"Number of Features don't match\"\n",
    "        \n",
    "        if(self.kernel==\"gaussian\"):\n",
    "            x=self.gaussian_kernel(x,x)\n",
    "            m=x.shape[0]\n",
    "            self.weights=np.zeros(m)\n",
    "\n",
    "        n=x.shape[0]\n",
    "        \n",
    "        for epoch in range(epochs):\n",
    "            y_hat=np.dot(x,self.weights)+self.bias\n",
    "            grad_weights=(-self.C*np.multiply(y,x.T).T+self.weights).T\n",
    "            \n",
    "            for weight in range(self.weights.shape[0]):\n",
    "                grad_weights[weight]=np.where(1-y_hat<=0,self.weights[weight],grad_weights[weight])\n",
    "            \n",
    "            grad_weights=np.sum(grad_weights,axis=1)\n",
    "            self.weights-=learning_rate*grad_weights/n\n",
    "            grad_bias=-y*self.bias\n",
    "            grad_bias=np.where(1-y_hat<=0,0,grad_bias)\n",
    "            grad_bias=sum(grad_bias)\n",
    "            self.bias-=grad_bias*learning_rate/n\n",
    "            if((epoch+1)%print_every_nth_epoch==0):\n",
    "                print(\"--------------- Epoch {} --> Loss = {} ---------------\".format(epoch+1, self.loss_function(y,y_hat)))\n",
    "    \n",
    "    def evaluate(self,x,y):\n",
    "        pred=self.predict(x)\n",
    "        pred=np.where(pred==-1,0,1)\n",
    "        diff=np.abs(np.where(y==-1,0,1)-pred)\n",
    "        return((len(diff)-sum(diff))/len(diff))\n",
    "\n",
    "    def predict(self,x):\n",
    "        if(self.kernel==\"gaussian\"):\n",
    "            x=self.gaussian_kernel(x,self.initial)\n",
    "        return np.where(np.dot(x,self.weights)+self.bias>0,1,-1)\n",
    "        "
   ]
  },
  {
   "cell_type": "markdown",
   "metadata": {},
   "source": [
    "<h1>3 types of kernels function</h1>\n"
   ]
  },
  {
   "cell_type": "code",
   "execution_count": null,
   "metadata": {},
   "outputs": [],
   "source": [
    "def linear_kernel(x1,x2):\n",
    "    return np.dot(x1,x2)\n",
    "\n",
    "def polynomial_kernel(x ,y,p=3):\n",
    "    return (1+np.dot(x,y)) ** p\n",
    "\n",
    "def gaussian_kernel(x,y,sigma=5.0):\n",
    "    return np.exp(-linalg.norm(x-y)**2 /(2*(sigma ** 2)))"
   ]
  }
 ],
 "metadata": {
  "kernelspec": {
   "display_name": "Python 3.10.2 64-bit",
   "language": "python",
   "name": "python3"
  },
  "language_info": {
   "name": "python",
   "version": "3.10.2"
  },
  "orig_nbformat": 4,
  "vscode": {
   "interpreter": {
    "hash": "a9cff5a362bc38ef45d817ae74b1af54d6a076e3d773891282bce078b815ba34"
   }
  }
 },
 "nbformat": 4,
 "nbformat_minor": 2
}
